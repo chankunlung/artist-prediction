{
 "cells": [
  {
   "cell_type": "code",
   "execution_count": 1,
   "metadata": {},
   "outputs": [],
   "source": [
    "import numpy as np\n",
    "import os\n",
    "import io\n",
    "import cv2\n",
    "import glob\n",
    "import tensorflow as tf\n",
    "from densenet import densenet_model\n",
    "from sklearn.model_selection import train_test_split\n",
    "from sklearn import preprocessing\n",
    "from sklearn.utils.class_weight import compute_class_weight\n",
    "from datetime import datetime\n",
    "from tensorflow.keras.preprocessing.image import ImageDataGenerator\n",
    "import time\n",
    "import pandas as pd\n",
    "import seaborn as sns\n",
    "%matplotlib inline\n",
    "import matplotlib.pyplot as plt\n",
    "from PIL import Image"
   ]
  },
  {
   "cell_type": "code",
   "execution_count": 2,
   "metadata": {},
   "outputs": [],
   "source": [
    "# Disable GPU\n",
    "# tf.config.experimental.set_visible_devices([], 'GPU')\n",
    "# tf.config.experimental.list_logical_devices('GPU')"
   ]
  },
  {
   "cell_type": "code",
   "execution_count": 3,
   "metadata": {},
   "outputs": [
    {
     "name": "stdout",
     "output_type": "stream",
     "text": [
      "1 Physical GPUs, 1 Logical GPUs\n",
      "[LogicalDevice(name='/job:localhost/replica:0/task:0/device:GPU:0', device_type='GPU')]\n"
     ]
    },
    {
     "data": {
      "text/plain": [
       "True"
      ]
     },
     "execution_count": 3,
     "metadata": {},
     "output_type": "execute_result"
    }
   ],
   "source": [
    "gpus = tf.config.experimental.list_physical_devices('GPU')\n",
    "if gpus:\n",
    "    try:\n",
    "        # Currently, memory growth needs to be the same across GPUs\n",
    "        for gpu in gpus:\n",
    "              tf.config.experimental.set_memory_growth(gpu, True)\n",
    "        logical_gpus = tf.config.experimental.list_logical_devices('GPU')\n",
    "        print(len(gpus), \"Physical GPUs,\", len(logical_gpus), \"Logical GPUs\")\n",
    "    except RuntimeError as e:\n",
    "        # Memory growth must be set before GPUs have been initialized\n",
    "        print(e)\n",
    "        \n",
    "print(tf.config.experimental.list_logical_devices('GPU'))\n",
    "tf.test.is_gpu_available()\n"
   ]
  },
  {
   "cell_type": "code",
   "execution_count": 4,
   "metadata": {},
   "outputs": [],
   "source": [
    "# hyperparameters\n",
    "# data\n",
    "rotation_range = 20\n",
    "width_shift_range = 0.2\n",
    "height_shift_range = 0.2\n",
    "horizontal_flip = True\n",
    "vertical_flip = True\n",
    "shear_range = 0\n",
    "zoom_range = 0.5\n",
    "size = (512,512)\n",
    "\n",
    "# model\n",
    "nb_filter = 64\n",
    "growth_rate = 16\n",
    "nb_layers = [6, 12, 24, 16]\n",
    "reduction = 0.5\n",
    "\n",
    "# training\n",
    "lr = 0.01\n",
    "epochs = 200\n",
    "max_patience = 40\n",
    "batch_size = 8\n",
    "\n",
    "# log\n",
    "log_freq = 1\n",
    "models_directory = 'results/models/'\n",
    "date = datetime.now().strftime(\"%Y_%m_%d-%H:%M:%S\")\n",
    "identifier = \"{}-growth-{}-densenet\".format(\n",
    "    '-'.join([str(i) for i in nb_layers]),\n",
    "    growth_rate) + date"
   ]
  },
  {
   "cell_type": "code",
   "execution_count": 5,
   "metadata": {},
   "outputs": [],
   "source": [
    "origin_dir = '../../data/best-artworks-of-all-time/'\n",
    "images_dir = origin_dir + 'images/'\n",
    "x = []\n",
    "y = []\n",
    "i = 0\n",
    "for artist in os.listdir(images_dir):\n",
    "    for filename in glob.glob(images_dir + artist +'/*.jpg'):\n",
    "        x.append(filename)\n",
    "        y.append(i)\n",
    "    i += 1\n",
    "n_classes = len(np.unique(y))"
   ]
  },
  {
   "cell_type": "code",
   "execution_count": 6,
   "metadata": {},
   "outputs": [
    {
     "name": "stdout",
     "output_type": "stream",
     "text": [
      "van 1000\n",
      "van 1000\n",
      "van 1000\n",
      "van 1000\n",
      "van 1000\n",
      "van 1000\n",
      "van 1000\n",
      "van 1000\n",
      "van 1000\n",
      "van 1000\n",
      "van 1000\n"
     ]
    }
   ],
   "source": [
    "# for a new value newValue, compute the new count, new mean, the new M2.\n",
    "# mean accumulates the mean of the entire dataset\n",
    "# M2 aggregates the squared distance from the mean\n",
    "# count aggregates the number of samples seen so far\n",
    "def update(existingAggregate, newValue):\n",
    "    (count, mean, M2) = existingAggregate\n",
    "    count += 1 \n",
    "    delta = newValue - mean\n",
    "    mean += delta / count\n",
    "    delta2 = newValue - mean\n",
    "    M2 += delta * delta2\n",
    "\n",
    "    return (count, mean, M2)\n",
    "\n",
    "# retrieve the mean, variance and sample variance from an aggregate\n",
    "def finalize(existingAggregate):\n",
    "    (count, mean, M2) = existingAggregate\n",
    "    (mean, variance, sampleVariance) = (mean, M2/count, M2/(count - 1)) \n",
    "    if count < 2:\n",
    "        return float('nan')\n",
    "    else:\n",
    "        return (mean, variance, sampleVariance)\n",
    "\n",
    "size = (512,512)\n",
    " \n",
    "existingAggregate = (0, np.zeros((512,512,3), dtype=np.float64), np.zeros((512,512,3), dtype=np.float64))\n",
    "for i in range(len(x)):\n",
    "    existingAggregate = update(existingAggregate, cv2.resize(cv2.imread(x[i]), size)/255.)\n",
    "    if (i > 0 and i % 800 == 0):\n",
    "        print('van 1000')\n",
    "mean, variance, sampleVariance = finalize(existingAggregate)"
   ]
  },
  {
   "cell_type": "code",
   "execution_count": 7,
   "metadata": {},
   "outputs": [],
   "source": [
    "classes = np.unique(y)\n",
    "n_classes = len(classes)\n",
    "class_weights = compute_class_weight('balanced', \n",
    "                                     classes,\n",
    "                                     y)\n",
    "y = tf.keras.utils.to_categorical(y)"
   ]
  },
  {
   "cell_type": "code",
   "execution_count": 8,
   "metadata": {},
   "outputs": [
    {
     "data": {
      "text/plain": [
       "array([1.9688172 , 0.54494048, 1.11646341, 1.36641791, 1.67981651,\n",
       "       0.69885496, 0.97393617, 1.86836735, 0.76610879, 2.12906977,\n",
       "       1.30785714, 2.54305556, 1.94787234, 0.62920962, 1.84949495,\n",
       "       0.55823171, 1.4531746 , 0.71803922, 1.66454545, 0.94870466,\n",
       "       1.30785714, 2.26049383, 1.56495726, 1.07076023, 0.94381443,\n",
       "       0.70694981, 1.53865546, 1.79509804, 1.38712121, 0.41708428,\n",
       "       1.33649635, 1.55169492, 1.25410959, 0.26082621, 1.31726619,\n",
       "       1.36641791, 0.20877993, 1.43046875, 1.28041958, 2.1045977 ,\n",
       "       2.08068182, 2.1797619 , 1.01160221, 0.58874598, 1.52583333,\n",
       "       2.03444444, 0.9844086 , 1.29858156, 2.01208791, 2.26049383])"
      ]
     },
     "execution_count": 8,
     "metadata": {},
     "output_type": "execute_result"
    }
   ],
   "source": [
    "class_weights"
   ]
  },
  {
   "cell_type": "code",
   "execution_count": 9,
   "metadata": {},
   "outputs": [],
   "source": [
    "datagen = ImageDataGenerator(\n",
    "    rescale=1./255.,\n",
    "    rotation_range=rotation_range,\n",
    "    width_shift_range=width_shift_range,\n",
    "    height_shift_range=height_shift_range,\n",
    "    horizontal_flip=horizontal_flip,\n",
    "    vertical_flip = vertical_flip,\n",
    "    shear_range=shear_range,\n",
    "    zoom_range=zoom_range,\n",
    "    fill_mode='constant',\n",
    "    cval=0)\n",
    "\n",
    "test_datagen = ImageDataGenerator(rescale=1./255.)"
   ]
  },
  {
   "cell_type": "code",
   "execution_count": 10,
   "metadata": {},
   "outputs": [
    {
     "data": {
      "text/plain": [
       "\"\\nimg_input = Input(shape=img_shape, name='data')\\nbase_model = tf.keras.applications.densenet.DenseNet121(include_top=False, weights='imagenet', input_shape=img_shape)\\nbase_model.trainable = False\\nx = base_model(img_input)\\nx = BatchNormalization(name='conv_final_blk_bn')(x)\\nx = Activation('relu', name='relu_final_blk')(x)\\nx = GlobalAveragePooling2D(name='pool_final')(x)\\nx = Dense(n_classes, name='fc6')(x)\\noutput = Activation('softmax', name='prob')(x)\\nmodel = Model(inputs=img_input, outputs=output)\\n\""
      ]
     },
     "execution_count": 10,
     "metadata": {},
     "output_type": "execute_result"
    }
   ],
   "source": [
    "img_shape = cv2.resize(cv2.imread(x[0]), size).shape\n",
    "model = densenet_model(classes=n_classes, nb_filter=nb_filter, shape=img_shape, growth_rate=growth_rate, nb_layers=nb_layers, reduction=reduction)\n",
    "'''\n",
    "img_input = Input(shape=img_shape, name='data')\n",
    "base_model = tf.keras.applications.densenet.DenseNet121(include_top=False, weights='imagenet', input_shape=img_shape)\n",
    "base_model.trainable = False\n",
    "x = base_model(img_input)\n",
    "x = BatchNormalization(name='conv_final_blk_bn')(x)\n",
    "x = Activation('relu', name='relu_final_blk')(x)\n",
    "x = GlobalAveragePooling2D(name='pool_final')(x)\n",
    "x = Dense(n_classes, name='fc6')(x)\n",
    "output = Activation('softmax', name='prob')(x)\n",
    "model = Model(inputs=img_input, outputs=output)\n",
    "'''"
   ]
  },
  {
   "cell_type": "code",
   "execution_count": 11,
   "metadata": {},
   "outputs": [],
   "source": [
    "loss_object = tf.keras.losses.CategoricalCrossentropy()\n",
    "\n",
    "def weightedLoss(originalLossFunc, weightsList):\n",
    "\n",
    "    @tf.function\n",
    "    def lossFunc(true, pred):\n",
    "\n",
    "        axis = -1 #if channels last \n",
    "        #axis=  1 #if channels first\n",
    "\n",
    "        #argmax returns the index of the element with the greatest value\n",
    "        #done in the class axis, it returns the class index    \n",
    "        classSelectors = tf.argmax(true, axis=axis, output_type=tf.int32) \n",
    "\n",
    "        #considering weights are ordered by class, for each class\n",
    "        #true(1) if the class index is equal to the weight index   \n",
    "        classSelectors = [tf.equal(i, classSelectors) for i in range(len(weightsList))]\n",
    "\n",
    "        #casting boolean to float for calculations  \n",
    "        #each tensor in the list contains 1 where ground true class is equal to its index \n",
    "        #if you sum all these, you will get a tensor full of ones. \n",
    "        classSelectors = [tf.cast(x, tf.float32) for x in classSelectors]\n",
    "\n",
    "        #for each of the selections above, multiply their respective weight\n",
    "        weights = [sel * w for sel,w in zip(classSelectors, weightsList)] \n",
    "\n",
    "        #sums all the selections\n",
    "        #result is a tensor with the respective weight for each element in predictions\n",
    "        weightMultiplier = weights[0]\n",
    "        for i in range(1, len(weights)):\n",
    "            weightMultiplier = weightMultiplier + weights[i]\n",
    "\n",
    "\n",
    "        #make sure your originalLossFunc only collapses the class axis\n",
    "        #you need the other axes intact to multiply the weights tensor\n",
    "        loss = originalLossFunc(true,pred) \n",
    "        loss = loss * weightMultiplier\n",
    "\n",
    "        return loss\n",
    "    return lossFunc\n",
    "loss_object = weightedLoss(loss_object, class_weights)\n",
    "\n",
    "optimizer = tf.keras.optimizers.Adam()"
   ]
  },
  {
   "cell_type": "code",
   "execution_count": 12,
   "metadata": {},
   "outputs": [],
   "source": [
    "train_loss = tf.keras.metrics.Mean(name='train_loss')\n",
    "train_accuracy = tf.keras.metrics.CategoricalAccuracy(name='train_accuracy')\n",
    "\n",
    "test_loss = tf.keras.metrics.Mean(name='test_loss')\n",
    "test_accuracy = tf.keras.metrics.CategoricalAccuracy(name='test_accuracy')"
   ]
  },
  {
   "cell_type": "code",
   "execution_count": 13,
   "metadata": {},
   "outputs": [],
   "source": [
    "@tf.function\n",
    "def train_step(images, labels):\n",
    "    with tf.GradientTape() as tape:\n",
    "        predictions = model(tf.cast(images, tf.float32), training=True)\n",
    "        loss = loss_object(labels, predictions)\n",
    "    gradients = tape.gradient(loss, model.trainable_variables)\n",
    "    optimizer.apply_gradients(zip(gradients, model.trainable_variables))\n",
    "\n",
    "    train_loss(loss)\n",
    "    train_accuracy(labels, predictions)\n",
    "\n",
    "    return predictions"
   ]
  },
  {
   "cell_type": "code",
   "execution_count": 14,
   "metadata": {},
   "outputs": [],
   "source": [
    "@tf.function\n",
    "def test_step(images, labels):\n",
    "    predictions = model(tf.cast(images, tf.float32), training=False)\n",
    "    t_loss = loss_object(labels, predictions)\n",
    "\n",
    "    test_loss(t_loss)\n",
    "    test_accuracy(labels, predictions)\n",
    "    \n",
    "    return predictions"
   ]
  },
  {
   "cell_type": "code",
   "execution_count": 15,
   "metadata": {},
   "outputs": [],
   "source": [
    "train_size = 0\n",
    "for artist in os.listdir(origin_dir + 'train/'):\n",
    "    train_size += len(glob.glob(origin_dir + 'train/' + artist +'/*.jpg'))\n",
    "        \n",
    "test_size = 0\n",
    "for artist in os.listdir(origin_dir + 'test/'):\n",
    "    test_size += len(glob.glob(origin_dir + 'test/' + artist +'/*.jpg'))"
   ]
  },
  {
   "cell_type": "code",
   "execution_count": 16,
   "metadata": {},
   "outputs": [
    {
     "name": "stdout",
     "output_type": "stream",
     "text": [
      "Found 7465 images belonging to 50 classes.\n",
      "Found 1690 images belonging to 50 classes.\n"
     ]
    }
   ],
   "source": [
    "# create summary writers\n",
    "train_summary_writer = tf.summary.create_file_writer('results/summaries/train/' + identifier)\n",
    "test_summary_writer = tf.summary.create_file_writer('results/summaries/test/' + identifier)\n",
    "\n",
    "# create data generators\n",
    "train_gen =  datagen.flow_from_directory(origin_dir + 'train/', target_size=size, batch_size=batch_size)\n",
    "test_gen = test_datagen.flow_from_directory(origin_dir + 'test/', target_size=size, batch_size=batch_size, shuffle=False)\n",
    "\n",
    "min_loss = 100\n",
    "min_loss_acc = 0\n",
    "patience = 0"
   ]
  },
  {
   "cell_type": "code",
   "execution_count": 17,
   "metadata": {},
   "outputs": [
    {
     "name": "stderr",
     "output_type": "stream",
     "text": [
      "WARNING: Logging before flag parsing goes to stderr.\n",
      "W0830 06:53:44.596978 139959188899648 image.py:693] Clipping input data to the valid range for imshow with RGB data ([0..1] for floats or [0..255] for integers).\n"
     ]
    },
    {
     "name": "stdout",
     "output_type": "stream",
     "text": [
      "[0. 0. 0. 0. 0. 0. 0. 0. 0. 0. 0. 0. 0. 0. 0. 0. 0. 0. 0. 0. 0. 0. 0. 0.\n",
      " 0. 0. 0. 0. 0. 0. 0. 0. 0. 0. 0. 0. 0. 0. 0. 0. 0. 0. 0. 0. 0. 0. 0. 0.\n",
      " 1. 0.]\n"
     ]
    },
    {
     "data": {
      "image/png": "[encoded data removed]",
      "text/plain": [
       "<Figure size 432x288 with 1 Axes>"
      ]
     },
     "metadata": {
      "needs_background": "light"
     },
     "output_type": "display_data"
    }
   ],
   "source": [
    "for images, labels in train_gen:\n",
    "    plt.imshow((images[0] - mean) / variance)\n",
    "    print(labels[0])\n",
    "    break"
   ]
  },
  {
   "cell_type": "code",
   "execution_count": 18,
   "metadata": {
    "scrolled": true
   },
   "outputs": [
    {
     "name": "stdout",
     "output_type": "stream",
     "text": [
      "starting training\n"
     ]
    },
    {
     "name": "stderr",
     "output_type": "stream",
     "text": [
      "W0830 06:53:49.303551 139959188899648 deprecation.py:323] From /usr/local/lib/python3.6/dist-packages/tensorflow/python/ops/math_grad.py:1250: add_dispatch_support.<locals>.wrapper (from tensorflow.python.ops.array_ops) is deprecated and will be removed in a future version.\n",
      "Instructions for updating:\n",
      "Use tf.where in 2.0, which has the same broadcast rule as np.where\n"
     ]
    },
    {
     "name": "stdout",
     "output_type": "stream",
     "text": [
      "Epoch: 0, Train Loss: 4.586764335632324, Train Acc:13.837909698486328, Test Loss: 4.188359260559082, Test Acc: 21.12425994873047, Time: 629.7110540866852 s\n",
      "Epoch: 1, Train Loss: 4.22784423828125, Train Acc:18.365707397460938, Test Loss: 3.92879319190979, Test Acc: 22.60354995727539, Time: 564.8800530433655 s\n",
      "Epoch: 2, Train Loss: 4.021483421325684, Train Acc:20.62960433959961, Test Loss: 3.5310046672821045, Test Acc: 26.923078536987305, Time: 563.8518776893616 s\n",
      "Epoch: 3, Train Loss: 3.8433682918548584, Train Acc:23.831212997436523, Test Loss: 3.527575731277466, Test Acc: 27.218935012817383, Time: 565.109293460846 s\n",
      "Epoch: 4, Train Loss: 3.6897521018981934, Train Acc:25.84058952331543, Test Loss: 3.3649656772613525, Test Acc: 30.946746826171875, Time: 563.2947916984558 s\n",
      "Epoch: 5, Train Loss: 3.5460190773010254, Train Acc:27.983924865722656, Test Loss: 3.3158533573150635, Test Acc: 31.36094856262207, Time: 567.4171528816223 s\n",
      "Epoch: 6, Train Loss: 3.438668966293335, Train Acc:30.421968460083008, Test Loss: 3.065377950668335, Test Acc: 36.86390686035156, Time: 567.8575904369354 s\n",
      "Epoch: 7, Train Loss: 3.327516794204712, Train Acc:31.895511627197266, Test Loss: 3.2750935554504395, Test Acc: 33.90532302856445, Time: 574.7659599781036 s\n",
      "Epoch: 8, Train Loss: 3.2169201374053955, Train Acc:34.42732620239258, Test Loss: 2.923391580581665, Test Acc: 37.5739631652832, Time: 564.3032534122467 s\n",
      "Epoch: 9, Train Loss: 3.110806465148926, Train Acc:35.94105911254883, Test Loss: 3.1545629501342773, Test Acc: 34.615386962890625, Time: 570.517688035965 s\n",
      "Epoch: 10, Train Loss: 3.0259578227996826, Train Acc:37.45478820800781, Test Loss: 2.82779598236084, Test Acc: 40.0, Time: 564.4326529502869 s\n",
      "Epoch: 11, Train Loss: 2.9384219646453857, Train Acc:39.26322937011719, Test Loss: 2.975175142288208, Test Acc: 38.402366638183594, Time: 573.355094909668 s\n",
      "Epoch: 12, Train Loss: 2.8562769889831543, Train Acc:40.50904083251953, Test Loss: 2.7196409702301025, Test Acc: 43.01774978637695, Time: 562.7810814380646 s\n",
      "Epoch: 13, Train Loss: 2.76297926902771, Train Acc:42.54521179199219, Test Loss: 2.7496180534362793, Test Acc: 42.071006774902344, Time: 593.1435797214508 s\n",
      "Epoch: 14, Train Loss: 2.698580026626587, Train Acc:43.87139892578125, Test Loss: 2.7267260551452637, Test Acc: 42.24851989746094, Time: 565.7096033096313 s\n",
      "Epoch: 15, Train Loss: 2.632340669631958, Train Acc:44.742130279541016, Test Loss: 2.78407883644104, Test Acc: 43.3136100769043, Time: 569.6377837657928 s\n",
      "Epoch: 16, Train Loss: 2.584604501724243, Train Acc:45.86738204956055, Test Loss: 2.6228370666503906, Test Acc: 45.325443267822266, Time: 571.8950283527374 s\n",
      "Epoch: 17, Train Loss: 2.491628885269165, Train Acc:47.68921661376953, Test Loss: 2.406174898147583, Test Acc: 48.106510162353516, Time: 567.7920529842377 s\n",
      "Epoch: 18, Train Loss: 2.4608538150787354, Train Acc:48.19825744628906, Test Loss: 2.782801866531372, Test Acc: 45.73964309692383, Time: 567.2595624923706 s\n",
      "Epoch: 19, Train Loss: 2.3737614154815674, Train Acc:49.39048767089844, Test Loss: 2.5543248653411865, Test Acc: 49.053253173828125, Time: 566.0402264595032 s\n",
      "Epoch: 20, Train Loss: 2.3502566814422607, Train Acc:50.395179748535156, Test Loss: 2.4563992023468018, Test Acc: 50.2366828918457, Time: 573.8124253749847 s\n",
      "Epoch: 21, Train Loss: 2.3102519512176514, Train Acc:51.18553161621094, Test Loss: 2.3713722229003906, Test Acc: 51.36094665527344, Time: 568.6367518901825 s\n",
      "Epoch: 22, Train Loss: 2.2453389167785645, Train Acc:52.33757400512695, Test Loss: 2.5167717933654785, Test Acc: 48.04733657836914, Time: 568.9150147438049 s\n",
      "Epoch: 23, Train Loss: 2.1865060329437256, Train Acc:53.8513069152832, Test Loss: 2.8595292568206787, Test Acc: 43.66864013671875, Time: 569.8194091320038 s\n",
      "Epoch: 24, Train Loss: 2.132850408554077, Train Acc:53.985260009765625, Test Loss: 2.832864999771118, Test Acc: 45.97633361816406, Time: 568.8700368404388 s\n",
      "Epoch: 25, Train Loss: 2.098219871520996, Train Acc:54.76222610473633, Test Loss: 2.369279384613037, Test Acc: 51.005916595458984, Time: 560.2498142719269 s\n",
      "Epoch: 26, Train Loss: 2.0315918922424316, Train Acc:55.9946403503418, Test Loss: 2.472125291824341, Test Acc: 49.58580017089844, Time: 575.3324885368347 s\n",
      "Epoch: 27, Train Loss: 1.9825265407562256, Train Acc:56.70462417602539, Test Loss: 2.3881421089172363, Test Acc: 48.402366638183594, Time: 568.9446561336517 s\n",
      "Epoch: 28, Train Loss: 1.9345980882644653, Train Acc:57.521766662597656, Test Loss: 2.3263723850250244, Test Acc: 52.011837005615234, Time: 573.4547171592712 s\n",
      "Epoch: 29, Train Loss: 1.9086538553237915, Train Acc:57.82987594604492, Test Loss: 2.4116404056549072, Test Acc: 49.46745681762695, Time: 564.7215266227722 s\n",
      "Epoch: 30, Train Loss: 1.8646847009658813, Train Acc:59.51774597167969, Test Loss: 2.426745891571045, Test Acc: 51.30177688598633, Time: 568.1218688488007 s\n",
      "Epoch: 31, Train Loss: 1.8321701288223267, Train Acc:59.705291748046875, Test Loss: 2.1794633865356445, Test Acc: 55.739646911621094, Time: 563.3151969909668 s\n",
      "Epoch: 32, Train Loss: 1.7801828384399414, Train Acc:60.69658279418945, Test Loss: 2.302980899810791, Test Acc: 54.31952667236328, Time: 573.9998617172241 s\n",
      "Epoch: 33, Train Loss: 1.7067785263061523, Train Acc:62.103145599365234, Test Loss: 2.34956431388855, Test Acc: 54.67455291748047, Time: 570.2659220695496 s\n",
      "Epoch: 34, Train Loss: 1.6758029460906982, Train Acc:63.04085922241211, Test Loss: 2.3914427757263184, Test Acc: 55.147926330566406, Time: 588.0585384368896 s\n",
      "Epoch: 35, Train Loss: 1.6857112646102905, Train Acc:62.438045501708984, Test Loss: 2.927962064743042, Test Acc: 47.988162994384766, Time: 565.5728440284729 s\n",
      "Epoch: 36, Train Loss: 1.6418323516845703, Train Acc:63.76423263549805, Test Loss: 2.3707849979400635, Test Acc: 51.893489837646484, Time: 562.7307596206665 s\n",
      "Epoch: 37, Train Loss: 1.6073155403137207, Train Acc:64.17950439453125, Test Loss: 2.0941474437713623, Test Acc: 58.04733657836914, Time: 562.7496993541718 s\n",
      "Epoch: 38, Train Loss: 1.586006999015808, Train Acc:65.09042358398438, Test Loss: 2.8187789916992188, Test Acc: 48.343196868896484, Time: 567.1469421386719 s\n",
      "Epoch: 39, Train Loss: 1.532762885093689, Train Acc:65.49229431152344, Test Loss: 2.253528118133545, Test Acc: 55.02958297729492, Time: 563.850727558136 s\n",
      "Epoch: 40, Train Loss: 1.5113763809204102, Train Acc:66.55056762695312, Test Loss: 2.158785104751587, Test Acc: 55.08876037597656, Time: 567.4270505905151 s\n",
      "Epoch: 41, Train Loss: 1.466394066810608, Train Acc:67.63563537597656, Test Loss: 2.565690517425537, Test Acc: 50.47337341308594, Time: 564.3060801029205 s\n",
      "Epoch: 42, Train Loss: 1.418472409248352, Train Acc:68.27863311767578, Test Loss: 2.3518869876861572, Test Acc: 53.78697967529297, Time: 568.6215031147003 s\n",
      "Epoch: 43, Train Loss: 1.382871150970459, Train Acc:68.02410888671875, Test Loss: 2.336273670196533, Test Acc: 56.27219009399414, Time: 569.0926311016083 s\n",
      "Epoch: 44, Train Loss: 1.3642958402633667, Train Acc:68.9752197265625, Test Loss: 2.166445732116699, Test Acc: 58.75739288330078, Time: 568.971625328064 s\n",
      "Epoch: 45, Train Loss: 1.365319848060608, Train Acc:69.40388488769531, Test Loss: 2.303527593612671, Test Acc: 53.609466552734375, Time: 577.4358448982239 s\n",
      "Epoch: 46, Train Loss: 1.309852957725525, Train Acc:70.20763397216797, Test Loss: 2.473555088043213, Test Acc: 54.14200973510742, Time: 563.4141063690186 s\n",
      "Epoch: 47, Train Loss: 1.2743910551071167, Train Acc:71.31948852539062, Test Loss: 2.3305437564849854, Test Acc: 55.68047332763672, Time: 563.142041683197 s\n",
      "Epoch: 48, Train Loss: 1.2634191513061523, Train Acc:70.97119903564453, Test Loss: 2.1828339099884033, Test Acc: 58.04733657836914, Time: 562.363107919693 s\n",
      "Epoch: 49, Train Loss: 1.2430834770202637, Train Acc:71.53382110595703, Test Loss: 2.491856336593628, Test Acc: 53.49112319946289, Time: 566.7990291118622 s\n",
      "Epoch: 50, Train Loss: 1.2117608785629272, Train Acc:72.76624298095703, Test Loss: 2.0387089252471924, Test Acc: 59.112422943115234, Time: 562.19034075737 s\n",
      "Epoch: 51, Train Loss: 1.1801329851150513, Train Acc:73.02075958251953, Test Loss: 2.094146251678467, Test Acc: 60.47336959838867, Time: 593.9242894649506 s\n",
      "Epoch: 52, Train Loss: 1.169399380683899, Train Acc:73.06095123291016, Test Loss: 2.6992011070251465, Test Acc: 53.84615707397461, Time: 563.9568610191345 s\n"
     ]
    },
    {
     "name": "stdout",
     "output_type": "stream",
     "text": [
      "Epoch: 53, Train Loss: 1.1423003673553467, Train Acc:73.71734619140625, Test Loss: 2.0263168811798096, Test Acc: 59.230770111083984, Time: 563.9904277324677 s\n",
      "Epoch: 54, Train Loss: 1.1111915111541748, Train Acc:74.52110290527344, Test Loss: 2.386200189590454, Test Acc: 55.325443267822266, Time: 567.1527519226074 s\n",
      "Epoch: 55, Train Loss: 1.0698171854019165, Train Acc:75.37843322753906, Test Loss: 2.525325298309326, Test Acc: 54.26035690307617, Time: 569.2135779857635 s\n",
      "Epoch: 56, Train Loss: 1.0701580047607422, Train Acc:75.35164642333984, Test Loss: 2.2108278274536133, Test Acc: 60.828399658203125, Time: 564.3281300067902 s\n",
      "Epoch: 57, Train Loss: 1.068166971206665, Train Acc:75.21768188476562, Test Loss: 2.4314796924591064, Test Acc: 56.44970703125, Time: 561.4992825984955 s\n",
      "Epoch: 58, Train Loss: 1.062049388885498, Train Acc:75.07032775878906, Test Loss: 2.3471579551696777, Test Acc: 58.75739288330078, Time: 561.6856245994568 s\n",
      "Epoch: 59, Train Loss: 1.0141102075576782, Train Acc:77.026123046875, Test Loss: 2.335930109024048, Test Acc: 57.514793395996094, Time: 544.8061537742615 s\n",
      "Epoch: 60, Train Loss: 0.9976430535316467, Train Acc:76.24916076660156, Test Loss: 4.090517044067383, Test Acc: 44.0236701965332, Time: 542.3044426441193 s\n",
      "Epoch: 61, Train Loss: 0.9834936857223511, Train Acc:77.36101531982422, Test Loss: 2.5186662673950195, Test Acc: 56.27219009399414, Time: 540.418719291687 s\n",
      "Epoch: 62, Train Loss: 0.9242357015609741, Train Acc:78.04420471191406, Test Loss: 2.298725128173828, Test Acc: 58.81657028198242, Time: 562.7636227607727 s\n",
      "Epoch: 63, Train Loss: 0.9800866842269897, Train Acc:77.53516387939453, Test Loss: 2.4643638134002686, Test Acc: 56.92308044433594, Time: 559.3809826374054 s\n",
      "Epoch: 64, Train Loss: 0.9309359192848206, Train Acc:78.5130615234375, Test Loss: 2.5151736736297607, Test Acc: 56.56804275512695, Time: 564.6484794616699 s\n",
      "Epoch: 65, Train Loss: 0.9107304215431213, Train Acc:78.96852111816406, Test Loss: 2.2911388874053955, Test Acc: 59.64497375488281, Time: 562.9675645828247 s\n",
      "Epoch: 66, Train Loss: 0.8573635816574097, Train Acc:79.74547576904297, Test Loss: 2.472700834274292, Test Acc: 58.46154022216797, Time: 563.1717796325684 s\n",
      "Epoch: 67, Train Loss: 0.8945903778076172, Train Acc:79.3837890625, Test Loss: 2.338998556137085, Test Acc: 58.93490982055664, Time: 563.2402064800262 s\n",
      "Epoch: 68, Train Loss: 0.8763046264648438, Train Acc:79.19625091552734, Test Loss: 2.001333236694336, Test Acc: 61.47929000854492, Time: 562.878511428833 s\n",
      "Epoch: 69, Train Loss: 0.861548125743866, Train Acc:80.12055969238281, Test Loss: 2.2722904682159424, Test Acc: 59.112422943115234, Time: 562.7971079349518 s\n",
      "Epoch: 70, Train Loss: 0.840632975101471, Train Acc:80.42866516113281, Test Loss: 2.7846624851226807, Test Acc: 54.497039794921875, Time: 566.848611831665 s\n",
      "Epoch: 71, Train Loss: 0.819974422454834, Train Acc:80.75016784667969, Test Loss: 2.3680245876312256, Test Acc: 57.5739631652832, Time: 561.8443372249603 s\n",
      "Epoch: 72, Train Loss: 0.79837566614151, Train Acc:81.19223022460938, Test Loss: 2.3611996173858643, Test Acc: 59.940826416015625, Time: 558.4517521858215 s\n",
      "Epoch: 73, Train Loss: 0.8076492547988892, Train Acc:80.95110321044922, Test Loss: 2.444956064224243, Test Acc: 59.289939880371094, Time: 559.9538125991821 s\n",
      "Epoch: 74, Train Loss: 0.7934384346008301, Train Acc:81.19223022460938, Test Loss: 2.779038906097412, Test Acc: 55.147926330566406, Time: 565.3772985935211 s\n",
      "Epoch: 75, Train Loss: 0.7659618854522705, Train Acc:82.10314178466797, Test Loss: 2.693066120147705, Test Acc: 54.08283996582031, Time: 544.3304250240326 s\n",
      "Epoch: 76, Train Loss: 0.7279237508773804, Train Acc:82.78633117675781, Test Loss: 2.24725079536438, Test Acc: 61.12425994873047, Time: 539.6787657737732 s\n",
      "Epoch: 77, Train Loss: 0.7543463110923767, Train Acc:82.0093765258789, Test Loss: 2.99189829826355, Test Acc: 54.79290008544922, Time: 545.3935966491699 s\n",
      "Epoch: 78, Train Loss: 0.7952715158462524, Train Acc:81.43335723876953, Test Loss: 2.438833475112915, Test Acc: 56.44970703125, Time: 544.7826771736145 s\n",
      "Epoch: 79, Train Loss: 0.7334075570106506, Train Acc:82.83992004394531, Test Loss: 2.416219711303711, Test Acc: 59.64497375488281, Time: 544.7628545761108 s\n",
      "Epoch: 80, Train Loss: 0.7240698337554932, Train Acc:82.65237426757812, Test Loss: 2.2633817195892334, Test Acc: 59.64497375488281, Time: 539.3471992015839 s\n",
      "Epoch: 81, Train Loss: 0.6974237561225891, Train Acc:83.56330108642578, Test Loss: 2.5205061435699463, Test Acc: 59.70414352416992, Time: 559.322803735733 s\n",
      "Epoch: 82, Train Loss: 0.727210521697998, Train Acc:82.79973602294922, Test Loss: 2.68867826461792, Test Acc: 59.112422943115234, Time: 558.6048302650452 s\n",
      "Epoch: 83, Train Loss: 0.7123090624809265, Train Acc:83.0676498413086, Test Loss: 2.357513666152954, Test Acc: 60.710060119628906, Time: 569.3082795143127 s\n",
      "Epoch: 84, Train Loss: 0.6651455760002136, Train Acc:84.206298828125, Test Loss: 2.6215033531188965, Test Acc: 56.035499572753906, Time: 565.7304172515869 s\n",
      "Epoch: 85, Train Loss: 0.6596627831459045, Train Acc:84.1527099609375, Test Loss: 2.2768917083740234, Test Acc: 60.41419982910156, Time: 569.5353252887726 s\n",
      "Epoch: 86, Train Loss: 0.666661262512207, Train Acc:83.91158294677734, Test Loss: 2.9764058589935303, Test Acc: 54.9112434387207, Time: 559.4264440536499 s\n",
      "Epoch: 87, Train Loss: 0.6122057437896729, Train Acc:85.46549987792969, Test Loss: 2.3891279697418213, Test Acc: 59.940826416015625, Time: 561.4536769390106 s\n",
      "Epoch: 88, Train Loss: 0.6628361940383911, Train Acc:84.1125259399414, Test Loss: 2.739182949066162, Test Acc: 59.230770111083984, Time: 561.5034482479095 s\n",
      "Epoch: 89, Train Loss: 0.6177334189414978, Train Acc:85.2913589477539, Test Loss: 2.6439707279205322, Test Acc: 59.053253173828125, Time: 567.2371137142181 s\n",
      "Epoch: 90, Train Loss: 0.6299448013305664, Train Acc:84.47421264648438, Test Loss: 2.862640380859375, Test Acc: 57.455623626708984, Time: 575.393453836441 s\n",
      "Epoch: 91, Train Loss: 0.5981767177581787, Train Acc:85.62625885009766, Test Loss: 2.8091320991516113, Test Acc: 57.69230651855469, Time: 562.8466882705688 s\n",
      "Epoch: 92, Train Loss: 0.6508366465568542, Train Acc:84.514404296875, Test Loss: 2.492591619491577, Test Acc: 62.84023666381836, Time: 567.1836700439453 s\n",
      "Epoch: 93, Train Loss: 0.6189618110656738, Train Acc:84.88948059082031, Test Loss: 2.596938371658325, Test Acc: 60.17751693725586, Time: 573.2051286697388 s\n",
      "Epoch: 94, Train Loss: 0.5767235159873962, Train Acc:86.10850524902344, Test Loss: 2.793844699859619, Test Acc: 58.57987976074219, Time: 579.0304005146027 s\n",
      "Epoch: 95, Train Loss: 0.5866644978523254, Train Acc:86.08171081542969, Test Loss: 2.56666898727417, Test Acc: 57.21893310546875, Time: 557.7659866809845 s\n",
      "Epoch: 96, Train Loss: 0.5669126510620117, Train Acc:86.4701919555664, Test Loss: 2.588228464126587, Test Acc: 62.84023666381836, Time: 558.9042465686798 s\n",
      "Epoch: 97, Train Loss: 0.5786373615264893, Train Acc:85.9075698852539, Test Loss: 2.874720573425293, Test Acc: 58.52070999145508, Time: 560.0167274475098 s\n",
      "Epoch: 98, Train Loss: 0.5816034078598022, Train Acc:85.97454833984375, Test Loss: 2.8872737884521484, Test Acc: 58.46154022216797, Time: 569.4288561344147 s\n",
      "Epoch: 99, Train Loss: 0.5501734018325806, Train Acc:86.85867309570312, Test Loss: 2.5984225273132324, Test Acc: 61.89349365234375, Time: 561.1042828559875 s\n",
      "Epoch: 100, Train Loss: 0.5725705623626709, Train Acc:86.24246978759766, Test Loss: 2.6753525733947754, Test Acc: 61.42012023925781, Time: 569.6080119609833 s\n",
      "Epoch: 101, Train Loss: 0.5555557012557983, Train Acc:86.49698638916016, Test Loss: 2.7160751819610596, Test Acc: 59.58579635620117, Time: 556.3688850402832 s\n",
      "Epoch: 102, Train Loss: 0.5405791997909546, Train Acc:87.05960845947266, Test Loss: 2.3372650146484375, Test Acc: 62.78106689453125, Time: 558.7347836494446 s\n",
      "Epoch: 103, Train Loss: 0.534649670124054, Train Acc:87.16677856445312, Test Loss: 2.752485513687134, Test Acc: 59.289939880371094, Time: 568.1966781616211 s\n",
      "Epoch: 104, Train Loss: 0.5274030566215515, Train Acc:87.07301330566406, Test Loss: 2.4253745079040527, Test Acc: 61.183433532714844, Time: 562.6717796325684 s\n",
      "Epoch: 105, Train Loss: 0.5286915302276611, Train Acc:87.35431671142578, Test Loss: 3.8353774547576904, Test Acc: 48.75739669799805, Time: 554.303385257721 s\n"
     ]
    },
    {
     "name": "stdout",
     "output_type": "stream",
     "text": [
      "Epoch: 106, Train Loss: 0.515766978263855, Train Acc:87.75619506835938, Test Loss: 2.42586350440979, Test Acc: 62.958580017089844, Time: 551.1951434612274 s\n",
      "Epoch: 107, Train Loss: 0.5220586657524109, Train Acc:87.55525970458984, Test Loss: 3.64965558052063, Test Acc: 52.54438018798828, Time: 566.0792577266693 s\n",
      "Epoch: 108, Train Loss: 0.5249441266059875, Train Acc:87.5820541381836, Test Loss: 2.2976560592651367, Test Acc: 62.60354995727539, Time: 569.4037289619446 s\n"
     ]
    }
   ],
   "source": [
    "print(\"starting training\")\n",
    "time_record = ''\n",
    "for epoch in range(epochs):\n",
    "    time_start = time.time()\n",
    "    batches = 0\n",
    "    for images, labels in train_gen:\n",
    "        images = (images - mean) / variance\n",
    "        train_step(images, labels)\n",
    "        batches += 1\n",
    "        if batches >= train_size / batch_size:\n",
    "            # we need to break the loop by hand because\n",
    "            # the generator loops indefinitely\n",
    "            break\n",
    "\n",
    "    batches = 0\n",
    "    all_predictions = np.array([]).reshape(0, n_classes)\n",
    "    all_labels = np.array([]).reshape(0, n_classes)\n",
    "    for test_images, test_labels in test_gen:\n",
    "        test_images = (test_images - mean) / variance\n",
    "        all_predictions = np.vstack((all_predictions, test_step(test_images, test_labels))) \n",
    "        all_labels = np.vstack((all_labels, test_labels))\n",
    "        batches += 1\n",
    "        if batches >= test_size / batch_size:\n",
    "            # we need to break the loop by hand because\n",
    "            # the generator loops indefinitely\n",
    "            break\n",
    "    time_finish = time.time()\n",
    "    end_time = (time_finish-time_start)\n",
    "    time_record = time_record + '{:.3f} s \\n'.format(end_time)\n",
    "\n",
    "    if (epoch % log_freq == 0):\n",
    "        print ('Epoch: {}, Train Loss: {}, Train Acc:{}, Test Loss: {}, Test Acc: {}, Time: {} s'.format(\n",
    "               epoch,\n",
    "               train_loss.result(),\n",
    "               train_accuracy.result()*100,\n",
    "               test_loss.result(),\n",
    "               test_accuracy.result()*100,\n",
    "               end_time))\n",
    "\n",
    "        if (test_loss.result() < min_loss):    \n",
    "            if not os.path.exists(models_directory):\n",
    "                os.makedirs(models_directory)\n",
    "            # serialize weights to HDF5\n",
    "            model.save_weights(models_directory + \"best{}.h5\".format(identifier))\n",
    "            min_loss = test_loss.result()\n",
    "            min_loss_acc = test_accuracy.result()\n",
    "            patience = 0\n",
    "        else:\n",
    "            patience += 1\n",
    "\n",
    "        with train_summary_writer.as_default():\n",
    "            tf.summary.scalar('loss', train_loss.result(), step=epoch)\n",
    "            tf.summary.scalar('accuracy', train_accuracy.result(), step=epoch)\n",
    "            #tf.summary.image('Confusion Matrix', image, step=epoch)\n",
    "            train_loss.reset_states()           \n",
    "            train_accuracy.reset_states()           \n",
    "\n",
    "        with test_summary_writer.as_default():\n",
    "            tf.summary.scalar('loss', test_loss.result(), step=epoch)\n",
    "            tf.summary.scalar('accuracy', test_accuracy.result(), step=epoch)\n",
    "            test_loss.reset_states()           \n",
    "            test_accuracy.reset_states()   \n",
    "            # save confusion matrix\n",
    "            con_mat = tf.math.confusion_matrix(\n",
    "                labels=np.argmax(all_labels, axis=1), \n",
    "                predictions=np.argmax(all_predictions, axis=1),\n",
    "                num_classes=n_classes).numpy()\n",
    "            con_mat_norm = np.around(con_mat.astype('float') / con_mat.sum(axis=1)[:, np.newaxis], decimals=2)\n",
    "            con_mat_df = pd.DataFrame(con_mat_norm,\n",
    "                                 index = classes, \n",
    "                                 columns = classes)\n",
    "            figure = plt.figure(figsize=(8, 8))\n",
    "            sns.heatmap(con_mat_df, annot=False,cmap=plt.cm.Blues)\n",
    "            plt.tight_layout()\n",
    "            plt.ylabel('True label')\n",
    "            plt.xlabel('Predicted label')\n",
    "            buf = io.BytesIO()\n",
    "            plt.savefig(buf, format='png')\n",
    "            plt.close(figure)\n",
    "            buf.seek(0)\n",
    "            image = tf.image.decode_png(buf.getvalue(), channels=4)\n",
    "            image = tf.expand_dims(image, 0)\n",
    "            tf.summary.image('Confusion Matrix', image, step=epoch)\n",
    "\n",
    "    if patience >= max_patience:\n",
    "        break\n",
    "\n",
    "with open(os.path.join('results/', identifier), \"w\") as file1:\n",
    "    file1.write(time_record)"
   ]
  }
 ],
 "metadata": {
  "kernelspec": {
   "display_name": "Python 3",
   "language": "python",
   "name": "python3"
  },
  "language_info": {
   "codemirror_mode": {
    "name": "ipython",
    "version": 3
   },
   "file_extension": ".py",
   "mimetype": "text/x-python",
   "name": "python",
   "nbconvert_exporter": "python",
   "pygments_lexer": "ipython3",
   "version": "3.6.7"
  }
 },
 "nbformat": 4,
 "nbformat_minor": 2
}
